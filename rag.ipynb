{
  "cells": [
    {
      "cell_type": "markdown",
      "metadata": {
        "id": "view-in-github",
        "colab_type": "text"
      },
      "source": [
        "<a href=\"https://colab.research.google.com/github/mikolaura/impleting_basic_rag_pipeline/blob/main/rag.ipynb\" target=\"_parent\"><img src=\"https://colab.research.google.com/assets/colab-badge.svg\" alt=\"Open In Colab\"/></a>"
      ]
    },
    {
      "cell_type": "markdown",
      "metadata": {
        "id": "GoiW_Qrai1gt"
      },
      "source": [
        "# Install all libraries from pip"
      ]
    },
    {
      "cell_type": "code",
      "execution_count": null,
      "metadata": {
        "id": "4byZUuNbJaHA",
        "collapsed": true
      },
      "outputs": [],
      "source": [
        "%pip install langchain langchain-google-genai faiss-cpu  langchain-community huggingface_hub"
      ]
    },
    {
      "cell_type": "code",
      "execution_count": null,
      "metadata": {
        "id": "dIBpb_WFfDS0",
        "collapsed": true
      },
      "outputs": [],
      "source": [
        "%pip install -U datasets"
      ]
    },
    {
      "cell_type": "markdown",
      "metadata": {
        "id": "2YUbkO_NTmc4"
      },
      "source": [
        "## Loading all libraries into a notebook"
      ]
    },
    {
      "cell_type": "code",
      "execution_count": null,
      "metadata": {
        "id": "nysuMBXmTp9w"
      },
      "outputs": [],
      "source": [
        "import os\n",
        "import getpass\n",
        "from datasets import load_dataset\n",
        "import pandas as pd\n",
        "import numpy as np\n",
        "from langchain_text_splitters import RecursiveCharacterTextSplitter\n",
        "from langchain_google_genai import GoogleGenerativeAIEmbeddings\n",
        "from langchain_community.docstore.in_memory import InMemoryDocstore\n",
        "from langchain_google_genai import ChatGoogleGenerativeAI\n",
        "from langchain_community.vectorstores import FAISS\n",
        "from langchain.chains import RetrievalQA\n",
        "import faiss\n",
        "import unittest"
      ]
    },
    {
      "cell_type": "markdown",
      "metadata": {
        "id": "jrwtZTB2tN_8"
      },
      "source": [
        "# Create vector store and loading dataset from scratch\n",
        "\n",
        "**You also can use already created faiss vector store**\n",
        "\n",
        "*for this move down to `Alternative: Load vector store`*\n"
      ]
    },
    {
      "cell_type": "markdown",
      "metadata": {
        "id": "2VLX9K_sJxb7"
      },
      "source": [
        "## Loading and structuring dataset\n",
        "\n",
        "`To done this part you would need hugging face api token`\n",
        "\n",
        "\n"
      ]
    },
    {
      "cell_type": "code",
      "execution_count": null,
      "metadata": {
        "id": "oCCI4AOzJr46"
      },
      "outputs": [],
      "source": [
        "!huggingface-cli login"
      ]
    },
    {
      "cell_type": "code",
      "execution_count": null,
      "metadata": {
        "id": "WO7NOdR5Js_j"
      },
      "outputs": [],
      "source": [
        "ds = load_dataset(\"uran050311/wikipedia_rag\")"
      ]
    },
    {
      "cell_type": "code",
      "execution_count": null,
      "metadata": {
        "id": "dJ__5NSwJ0eD"
      },
      "outputs": [],
      "source": [
        "import pandas as pd\n",
        "# Converting into pandas data frame and preprocesing data\n",
        "train_data = pd.DataFrame.from_dict((ds['train']))\n",
        "texts = train_data['text'].tolist()\n"
      ]
    },
    {
      "cell_type": "markdown",
      "metadata": {
        "id": "TYIX3nJbKsG7"
      },
      "source": [
        "## Vector store\n",
        "\n",
        "***You need google api key for this part***\n",
        "\n",
        "In this part:\n",
        "\n",
        "* We create document from text\n",
        "* We split documents\n",
        "* We create vector store\n",
        "* We add data to vector store"
      ]
    },
    {
      "cell_type": "code",
      "execution_count": null,
      "metadata": {
        "id": "dv-nXtIGcSFE"
      },
      "outputs": [],
      "source": [
        "# Preprocess text\n",
        "text_splitter = RecursiveCharacterTextSplitter(chunk_size=1000, chunk_overlap=30)\n",
        "documents = text_splitter.create_documents(texts)\n",
        "splited_documents = text_splitter.split_documents(documents)"
      ]
    },
    {
      "cell_type": "markdown",
      "metadata": {
        "id": "f_b6rYv5dSsy"
      },
      "source": [
        "### Create embeddings. Convert from text to embeddings"
      ]
    },
    {
      "cell_type": "code",
      "execution_count": null,
      "metadata": {
        "id": "IJCZi_zAK_OE"
      },
      "outputs": [],
      "source": [
        "os.environ['GOOGLE_API_KEY'] = getpass.getpass()"
      ]
    },
    {
      "cell_type": "code",
      "execution_count": null,
      "metadata": {
        "id": "Ef-St7ZqK4pT"
      },
      "outputs": [],
      "source": [
        "embeddings = GoogleGenerativeAIEmbeddings(model=\"models/embedding-001\")"
      ]
    },
    {
      "cell_type": "code",
      "execution_count": null,
      "metadata": {
        "id": "6NsfWSBqdSsz"
      },
      "outputs": [],
      "source": [
        "def from_text_to_embeddings(embeddings, text):\n",
        "    return embeddings.embed_query(text)"
      ]
    },
    {
      "cell_type": "markdown",
      "metadata": {
        "id": "fv3hhkOadSsz"
      },
      "source": [
        "### Setup Faiss"
      ]
    },
    {
      "cell_type": "code",
      "execution_count": null,
      "metadata": {
        "id": "cn8UDnFfdSsz"
      },
      "outputs": [],
      "source": [
        "index = faiss.IndexFlatL2(len(embeddings.embed_query(\"hello world\")))\n",
        "\n",
        "vector_store = FAISS(\n",
        "    embedding_function=embeddings,\n",
        "    index=index,\n",
        "    docstore=InMemoryDocstore(),\n",
        "    index_to_docstore_id={},\n",
        ")"
      ]
    },
    {
      "cell_type": "code",
      "execution_count": null,
      "metadata": {
        "id": "cr5ZIBJmKLf1"
      },
      "outputs": [],
      "source": [
        "vector_store.add_documents(documents=splited_documents)"
      ]
    },
    {
      "cell_type": "markdown",
      "metadata": {
        "id": "U50nwHm_jrfU"
      },
      "source": [
        "## Creating LLM and retriever\n",
        "\n",
        "This part:\n",
        "\n",
        "* Initializing LLM\n",
        "* Createing retriver\n",
        "* Creating rag chain\n",
        "* And make first prediction"
      ]
    },
    {
      "cell_type": "code",
      "execution_count": null,
      "metadata": {
        "id": "xc-lHMXyLk4b"
      },
      "outputs": [],
      "source": [
        "llm = ChatGoogleGenerativeAI(\n",
        "    model=\"gemini-2.0-flash\",\n",
        "    temperature=0,\n",
        "    max_tokens=None,\n",
        "    timeout=None,\n",
        "    max_retries=2,\n",
        "    model_kwargs = {\n",
        "        \"seed\": 42\n",
        "    }\n",
        "    )"
      ]
    },
    {
      "cell_type": "code",
      "execution_count": null,
      "metadata": {
        "id": "o_jyXAF2LOCM"
      },
      "outputs": [],
      "source": [
        "retriever = vector_store.as_retriever()\n",
        "rag_chain = RetrievalQA.from_chain_type(llm=llm, retriever=retriever, chain_type=\"stuff\")\n",
        "result = rag_chain.invoke(\"What is ASCII\")['result']\n",
        "print(\"Answer:\", result)"
      ]
    },
    {
      "cell_type": "markdown",
      "metadata": {
        "id": "N0MTvRrnj-tM"
      },
      "source": [
        "## Unit testing"
      ]
    },
    {
      "cell_type": "code",
      "execution_count": null,
      "metadata": {
        "id": "eklWtGF4LrJj"
      },
      "outputs": [],
      "source": [
        "class TestStringMethods(unittest.TestCase): # not all unit test would work because llm can change it result\n",
        "  def test_what_is_ascii(self):\n",
        "      self.assertIn(rag_chain.invoke(\"What is ASCII\")['result'], \"ASCII, abbreviated from American Standard Code for Information Interchange, is a character encoding standard for electronic communication. ASCII codes represent text in computers, telecommunications equipment, and other devices. It encodes 128 specified characters into seven-bit integers.\")\n",
        "  def test_where_is_andorra(self):\n",
        "      self.assertIn(rag_chain.invoke(\"Where is Andorra\")['result'], \"Andorra is a landlocked country in the eastern Pyrenees mountains, bordered by France to the north and Spain to the south.\")"
      ]
    },
    {
      "cell_type": "code",
      "execution_count": null,
      "metadata": {
        "id": "5_zKvCKIMA3z"
      },
      "outputs": [],
      "source": [
        "if __name__ == '__main__':\n",
        "    unittest.main(argv=['first-arg-is-ignored'], exit=False)"
      ]
    },
    {
      "cell_type": "markdown",
      "metadata": {
        "id": "xLo9Pq78kArU"
      },
      "source": [
        "## Saving dataset with vector"
      ]
    },
    {
      "cell_type": "code",
      "execution_count": null,
      "metadata": {
        "id": "BWWIQIbIbZqk"
      },
      "outputs": [],
      "source": [
        "rows = []\n",
        "\n",
        "for i in range(len(texts)):\n",
        "    vector = []\n",
        "    # This code work, but because gemini cannot process that much data it would take forever to run\n",
        "\n",
        "      # for q in range(100, len(texts[i])-100, 100):\n",
        "\n",
        "      #   vec = embeddings.embed_query(texts[i][q-100:q])\n",
        "      #   vector.extend(vec)\n",
        "    rows.append({\n",
        "        \"id\": i,\n",
        "        \"title\": train_data['title'].tolist()[i],\n",
        "        \"text\": texts[i],\n",
        "        \"vector\": vector\n",
        "    })\n",
        "\n",
        "df = pd.DataFrame(rows)\n",
        "df.to_csv(\"text_with_empty_vector.csv\", index=False)"
      ]
    },
    {
      "cell_type": "markdown",
      "metadata": {
        "id": "YtkoYglskDu0"
      },
      "source": [
        "## Saving faiss vector store"
      ]
    },
    {
      "cell_type": "code",
      "execution_count": null,
      "metadata": {
        "id": "qKERGVRnavcM"
      },
      "outputs": [],
      "source": [
        "vector_store.save_local(\"my_faiss_index\")"
      ]
    },
    {
      "cell_type": "markdown",
      "metadata": {
        "id": "gr6ENsactOAB"
      },
      "source": [
        "# Alternative: Load vector store\n",
        "\n",
        "***For this you would need google api key***"
      ]
    },
    {
      "cell_type": "code",
      "execution_count": null,
      "metadata": {
        "id": "k__8YV4dtOAB"
      },
      "outputs": [],
      "source": [
        "!wget https://github.com/mikolaura/faiss_index/raw/refs/heads/main/my_faiss_index.zip"
      ]
    },
    {
      "cell_type": "code",
      "execution_count": null,
      "metadata": {
        "id": "wco5e4YitOAC"
      },
      "outputs": [],
      "source": [
        "!unzip my_faiss_index.zip"
      ]
    },
    {
      "cell_type": "markdown",
      "source": [
        "## OPTIONAL: USING CLI INTERFACE"
      ],
      "metadata": {
        "id": "Sq-OSi7VdXox"
      }
    },
    {
      "cell_type": "code",
      "execution_count": null,
      "metadata": {
        "id": "CZL1NLeYtSFM"
      },
      "outputs": [],
      "source": [
        "os.environ['GOOGLE_API_KEY'] = getpass.getpass()"
      ]
    },
    {
      "cell_type": "code",
      "execution_count": null,
      "metadata": {
        "id": "syjuVGJsbERk"
      },
      "outputs": [],
      "source": [
        "#Loading embeddings and vector store\n",
        "embeddings = GoogleGenerativeAIEmbeddings(model=\"models/embedding-001\")\n",
        "vector_store = FAISS.load_local(\"my_faiss_index\",\n",
        "                                embeddings,\n",
        "                                allow_dangerous_deserialization=True\n",
        "                                )"
      ]
    },
    {
      "cell_type": "code",
      "execution_count": null,
      "metadata": {
        "id": "oJGr9VEUdbm_"
      },
      "outputs": [],
      "source": [
        "# Init chat model\n",
        "llm = ChatGoogleGenerativeAI(\n",
        "    model=\"gemini-2.0-flash\",\n",
        "    temperature=0,\n",
        "    max_tokens=None,\n",
        "    timeout=None,\n",
        "    max_retries=2,\n",
        ")"
      ]
    },
    {
      "cell_type": "code",
      "execution_count": null,
      "metadata": {
        "id": "lpJzuxX2tOAC"
      },
      "outputs": [],
      "source": [
        "# Creating retriver and rag chain\n",
        "retriever = vector_store.as_retriever()\n",
        "rag_chain = RetrievalQA.from_chain_type(llm=llm, retriever=retriever, chain_type=\"stuff\")"
      ]
    },
    {
      "cell_type": "code",
      "execution_count": null,
      "metadata": {
        "id": "rLZwo5oNtOAD"
      },
      "outputs": [],
      "source": [
        "# Predicting on own input\n",
        "i = input()\n",
        "if i == \"\":\n",
        "  print(\"Input cannot be empty\")\n",
        "  i = input()\n",
        "result = rag_chain.invoke(i)['result']\n",
        "print(\"Answer:\", result)"
      ]
    },
    {
      "cell_type": "markdown",
      "metadata": {
        "id": "8ScFSTXRdSs2"
      },
      "source": [
        "## OPTIONAL: CREATE WEB-GUI USING STREAMLIT"
      ]
    },
    {
      "cell_type": "code",
      "execution_count": null,
      "metadata": {
        "id": "B8miBKT2dSs2"
      },
      "outputs": [],
      "source": [
        "!pip install -q streamlit"
      ]
    },
    {
      "cell_type": "code",
      "execution_count": null,
      "metadata": {
        "id": "pBLdulDkdSs6"
      },
      "outputs": [],
      "source": [
        "%%writefile app.py\n",
        "import os\n",
        "import numpy as np\n",
        "from langchain_text_splitters import RecursiveCharacterTextSplitter\n",
        "from langchain_google_genai import GoogleGenerativeAIEmbeddings\n",
        "from langchain_google_genai import ChatGoogleGenerativeAI\n",
        "from langchain_community.vectorstores import FAISS\n",
        "from langchain.chains import RetrievalQA\n",
        "import faiss\n",
        "import streamlit as st\n",
        "with st.sidebar:\n",
        "    google_gemini_api_key = st.text_input(\n",
        "        \"Google Gemini API Key\",\n",
        "        key=\"api_key\",\n",
        "        type='password'\n",
        "    )\n",
        "\n",
        "st.title('RAG')\n",
        "\n",
        "if google_gemini_api_key:\n",
        "    os.environ['GOOGLE_API_KEY'] = google_gemini_api_key\n",
        "    embeddings = GoogleGenerativeAIEmbeddings(model=\"models/embedding-001\")\n",
        "    vector_store = FAISS.load_local(\"my_faiss_index\",\n",
        "                                embeddings,\n",
        "                                allow_dangerous_deserialization=True\n",
        "                                )\n",
        "    # Init chat model\n",
        "    llm = ChatGoogleGenerativeAI(\n",
        "        model=\"gemini-2.0-flash\",\n",
        "        temperature=0,\n",
        "        max_tokens=None,\n",
        "        timeout=None,\n",
        "        max_retries=2,\n",
        "    )\n",
        "\n",
        "    # Creating retriver and rag chain\n",
        "    retriever = vector_store.as_retriever()\n",
        "    rag_chain = RetrievalQA.from_chain_type(llm=llm, retriever=retriever, chain_type=\"stuff\")\n",
        "    text = st.text_input(\n",
        "        \"Write your question\",\n",
        "        key=\"text\"\n",
        "    )\n",
        "    # Predicting on own input\n",
        "    if text:\n",
        "        result = rag_chain.invoke(text)['result']\n",
        "        print(\"Answer:\", result)\n",
        "        st.write(result)"
      ]
    },
    {
      "cell_type": "code",
      "execution_count": null,
      "metadata": {
        "id": "QSrGC9_ydSs6"
      },
      "outputs": [],
      "source": [
        "!npm install localtunnel"
      ]
    },
    {
      "cell_type": "code",
      "source": [
        "!wget -q -O - https://loca.lt/mytunnelpassword"
      ],
      "metadata": {
        "id": "uvfDjBapd8qx"
      },
      "execution_count": null,
      "outputs": []
    },
    {
      "cell_type": "code",
      "execution_count": null,
      "metadata": {
        "id": "KkYwg5XcdSs7"
      },
      "outputs": [],
      "source": [
        "!streamlit run /content/app.py &>/content/logs.txt &"
      ]
    },
    {
      "cell_type": "code",
      "execution_count": null,
      "metadata": {
        "id": "RMA3qpEddSs7"
      },
      "outputs": [],
      "source": [
        "!npx localtunnel --port 8501"
      ]
    },
    {
      "cell_type": "code",
      "source": [],
      "metadata": {
        "id": "gi6QaiFHfVk8"
      },
      "execution_count": null,
      "outputs": []
    }
  ],
  "metadata": {
    "colab": {
      "collapsed_sections": [
        "GoiW_Qrai1gt",
        "jrwtZTB2tN_8",
        "2VLX9K_sJxb7",
        "TYIX3nJbKsG7",
        "U50nwHm_jrfU",
        "N0MTvRrnj-tM",
        "xLo9Pq78kArU",
        "YtkoYglskDu0",
        "gr6ENsactOAB"
      ],
      "provenance": [],
      "include_colab_link": true
    },
    "kernelspec": {
      "display_name": "Python 3",
      "name": "python3"
    },
    "language_info": {
      "codemirror_mode": {
        "name": "ipython",
        "version": 3
      },
      "file_extension": ".py",
      "mimetype": "text/x-python",
      "name": "python",
      "nbconvert_exporter": "python",
      "pygments_lexer": "ipython3",
      "version": "3.13.2"
    }
  },
  "nbformat": 4,
  "nbformat_minor": 0
}